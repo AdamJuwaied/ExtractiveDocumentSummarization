{
 "cells": [
  {
   "cell_type": "code",
   "execution_count": 17,
   "metadata": {},
   "outputs": [],
   "source": [
    "from nltk.tokenize import sent_tokenize\n",
    "from nltk.corpus import stopwords\n",
    "from collections import defaultdict\n",
    "from string import punctuation\n",
    "\n",
    "from nltk.cluster.util import cosine_distance\n",
    "import numpy as np\n",
    "import networkx as nx\n",
    "import os\n",
    "import glob\n",
    "import codecs\n",
    "from collections import Counter\n",
    "import re\n",
    "import string\n",
    "import pandas as pd \n",
    "import collections \n",
    "import matplotlib.pyplot as plt"
   ]
  },
  {
   "cell_type": "code",
   "execution_count": 18,
   "metadata": {},
   "outputs": [],
   "source": [
    "def sentence_similarity(sent1, sent2):\n",
    "    \n",
    "    stop_words = set(stopwords.words('english'))\n",
    "    sent1 = [w.lower() for w in sent1]\n",
    "    sent2 = [w.lower() for w in sent2]\n",
    " \n",
    "    all_words = list(set(sent1 + sent2))\n",
    " \n",
    "    vector1 = [0] * len(all_words)\n",
    "    vector2 = [0] * len(all_words)\n",
    " \n",
    "    # build the vector for the first sentence\n",
    "    for w in sent1:\n",
    "        if w in stop_words:\n",
    "            continue\n",
    "        vector1[all_words.index(w)] += 1\n",
    " \n",
    "    # build the vector for the second sentence\n",
    "    for w in sent2:\n",
    "        if w in stop_words:\n",
    "            continue\n",
    "        vector2[all_words.index(w)] += 1\n",
    " \n",
    "    return 1 - cosine_distance(vector1, vector2)"
   ]
  },
  {
   "cell_type": "code",
   "execution_count": 19,
   "metadata": {},
   "outputs": [],
   "source": [
    "def similarmatrix(sentences):\n",
    "    # Create an empty similarity matrix\n",
    "    similarity_matrix = np.zeros((len(sentences), len(sentences)))\n",
    " \n",
    "    for idx1 in range(len(sentences)):\n",
    "        for idx2 in range(len(sentences)):\n",
    "            if idx1 == idx2: #ignore if both are same sentences\n",
    "                continue \n",
    "            similarity_matrix[idx1][idx2] = sentence_similarity(sentences[idx1], sentences[idx2])\n",
    "            #print(similarity_matrix)\n",
    "    return similarity_matrix\n"
   ]
  },
  {
   "cell_type": "code",
   "execution_count": 20,
   "metadata": {},
   "outputs": [],
   "source": [
    "\n",
    "\n",
    "def format_function(data):\n",
    "# replace citation with <cit> tag\n",
    "\tdata = re.sub(r'[[][0-9]+[,0-9/-]*[]]',r' <cit> ',data)\n",
    "\tdata = re.sub(r'[[][0-9]+[\", \",0-9/-]*[]]',r' <cit> ',data)\n",
    "\tdata = re.sub(\"<.*?>\", \"\", data)\n",
    "# remove text in brackets\n",
    "\tdata = re.sub(r'\\([^)]+\\)','',data)\n",
    "\tdata = re.sub(r'\\[.*?\\]','',data)\n",
    "\tdata = re.sub(\"\\n\",'',data)\n",
    "\n",
    "\n",
    "# remove table and figures\n",
    "\tdata = re.sub(r'\\ntable \\d+.*?\\n',r'',data)\n",
    "\tdata = re.sub(r'.*\\t.*?\\n',r'',data)\n",
    "\tdata = re.sub(r'\\nfigure \\d+.*?\\n',r'',data)\n",
    "\tdata = re.sub(r'[(]fig. \\d+.*?[)]',r'',data)\n",
    "\tdata = re.sub(r'[(]fig . \\d+.*?[)]',r'',data)\n",
    "\tdata = re.sub(r'[(]table \\d+.*?[)]',r'',data)\n",
    "\treturn str(data)"
   ]
  },
  {
   "cell_type": "code",
   "execution_count": 21,
   "metadata": {},
   "outputs": [],
   "source": [
    "def summarizedoc(doc, n):\n",
    "      \n",
    "          \"\"\"\n",
    "           Return a list of n sentences \n",
    "           which represent the summary of text.\n",
    "          \"\"\"\n",
    "          summarize_text = []\n",
    "          #Splitting the artice into sentences\n",
    "          #text_result = re.sub(\"<.*?>\", \"\", str(doc))\n",
    "          text_result = format_function(str(doc))\n",
    "          #print(text_result)\n",
    "          sents = sent_tokenize(text_result)\n",
    "          #assert n <= len(sents)\n",
    "            \n",
    "          # Generate Similary Martix across sentences\n",
    "          sent_similarity_matrix = similarmatrix(sents)\n",
    "        \n",
    "          G = nx.Graph(sent_similarity_matrix)\n",
    "          scores = nx.pagerank(G, alpha=0.85)\n",
    "          \n",
    "          \n",
    "\n",
    "         # Sort the rank and pick top sentences\n",
    "          ranked_sentence = sorted(((scores[i],s) for i,s in enumerate(sents)), reverse=True) \n",
    "          \n",
    "         \n",
    "                \n",
    "          #print(\"Indexes of top ranked_sentence order are \", ranked_sentence)    \n",
    "\n",
    "          for i in range(5):\n",
    "            \n",
    "            summarize_text.append((ranked_sentence[i][1]))\n",
    "\n",
    "          #  output the summarary\n",
    "          print(\"Summarize Text: \\n\", \"\".join(summarize_text))\n",
    "         \n",
    "         \n",
    "          return summarize_text\n",
    "   \n"
   ]
  },
  {
   "cell_type": "code",
   "execution_count": 22,
   "metadata": {
    "scrolled": false
   },
   "outputs": [
    {
     "name": "stdout",
     "output_type": "stream",
     "text": [
      "Enter Textfile that needs to be Summarized   text_10.txt\n",
      "Summarize Text: \n",
      " expression of lipoprotein lipase was increased in the high dose groups from day    and this is also the time point at which changes in the lipid species present were first detected by gc-ms. because of the relative low spinning speeds used during hrmas 1h nmr spectroscopy, the technique focuses on the detection of lipids with some mobility, and hence the increased lipid detected in the spectra reflect the mobilization of triglyceride stores within the liver tissue.direct infusion mass spectrometry provided an important tool for rationalising the total lipid changes detected by gc-ms and hrmas 1h nmr spectroscopy.its induction in the liver of rats exposed to pb may be responsible for the decrease in plasma lipids, suggesting that the liver in these animals has an increased demand for fatty acids, possibly due to the proliferation in endoplasmic reticulum which is known to be induced by pb   .high resolution 1h-nmr spectroscopic analysis of plasma demonstrated differences in the lipoprotein fraction with increasing pb dose.pb induces the cyp2b family of cytochrome p  enzymes and hence the increase in heme biosynthesis induced by pb is consistent with the heme requirements associated with induction of cytochrome p450s   .plasma lipidsclinical biochemistry measurements showed a decrease in plasma triglycerides in animals given the mid and high doses of pb at day   and 1h-nmr of plasma also showed a decrease in lipid resonances at days   and    pls demonstrated a correlation between the ch  resonance of plasma lipoproteins and lpl expression.this indicates that the decrease in glycogen detected in the livers of animals exposed to pb is a result of a decrease in glycogen synthesis, with this previously being reported in vitro in isolated rat hepatocytes   .hepatic glutathionehepatic glutathione was increased at days      and   in animals exposed to pb relative to control animals.at day    spectra from rats exposed to pb demonstrated a shift in the terminal methyl lipoprotein resonance to a lower chemical shift reflecting an increase in high density lipoprotein and decrease in low density lipoprotein as has been reported in pb-exposed sprague dawley rats   .lipid remodeling in the liverthe decrease in glycogen and increase in fatty acid uptake in response to pb suggested that the proportions of fat and carbohydrate in the liver were altered.\n"
     ]
    }
   ],
   "source": [
    "listfiles=[]\n",
    "doc1 = \"\"\n",
    "summary = []\n",
    "dir = \"text\\\\\"\n",
    "filename = \" \"\n",
    "\n",
    "textfile = input(\"Enter Textfile that needs to be Summarized   \")\n",
    "filename =  dir+textfile\n",
    "\n",
    "file = open(filename, \"r\")\n",
    "\n",
    "if ( file != None ):\n",
    "    listfiles = file.read()\n",
    "    file.close()\n",
    "listfiles = \"\".join(listfiles)\n",
    "\n",
    "\n",
    "\n",
    "textlist = listfiles.replace(\"BACKGROUND\",\"\")\n",
    "textlist1 = textlist.replace(\"RESULTS\",\"\")\n",
    "textlist2=textlist1.replace(\"CONCLUSIONS\",\"\")\n",
    "textl = textlist2.replace('\\n', '')\n",
    "joinlist = textl.replace('\\n', '')\n",
    "summarize_text = summarizedoc(joinlist,5) \n",
    "\n",
    "\n",
    "#To Read Corresponding Summary file  from  the dataset \n",
    "\n",
    "summaryfile = textfile.replace(\"text\",\"abstract\")\n",
    "dir = \"abstract\\\\\"\n",
    "sumfilename = dir+summaryfile\n",
    "sfile = open(sumfilename, \"r\")\n",
    "if ( sfile != None ):\n",
    "    sumlistfile = sfile.read()\n",
    "    sfile.close()\n",
    "sumlist1=[]\n",
    "sumlist=[]\n",
    "sumlist2=[]\n",
    "sumlistfiles = \"\".join(sumlistfile)\n",
    "sumlist = sumlistfiles.replace(\"BACKGROUND\",\"\")\n",
    "sumlist1 = sumlist.replace(\"RESULTS\",\"\")\n",
    "sumlist2=sumlist1.replace(\"CONCLUSIONS\",\"\")\n",
    "suml = sumlist2.replace('\\n', '')\n",
    "\n",
    "\n",
    "\n",
    "\n"
   ]
  },
  {
   "cell_type": "code",
   "execution_count": 24,
   "metadata": {},
   "outputs": [
    {
     "name": "stdout",
     "output_type": "stream",
     "text": [
      "[{'rouge-1': {'f': 0.3603305738238646, 'p': 0.28835978835978837, 'r': 0.4801762114537445}, 'rouge-2': {'f': 0.08955223411950775, 'p': 0.07161803713527852, 'r': 0.11946902654867257}, 'rouge-l': {'f': 0.3292682877305176, 'p': 0.3, 'r': 0.36486486486486486}}]\n",
      "         F-Measure  Precision    Recall\n",
      "rouge-1   0.360331   0.288360  0.480176\n",
      "rouge-2   0.089552   0.071618  0.119469\n",
      "rouge-l   0.329268   0.300000  0.364865\n"
     ]
    },
    {
     "data": {
      "text/plain": [
       "Text(0.5, 1.0, ' Document Summarizer : Rouge-Metric')"
      ]
     },
     "execution_count": 24,
     "metadata": {},
     "output_type": "execute_result"
    },
    {
     "data": {
      "image/png": "[encoded data removed]",
      "text/plain": [
       "<Figure size 720x432 with 1 Axes>"
      ]
     },
     "metadata": {
      "needs_background": "light"
     },
     "output_type": "display_data"
    }
   ],
   "source": [
    "from rouge import Rouge \n",
    "\n",
    "\n",
    "sorelist = []\n",
    "hypothesis = summarize_text\n",
    "reference = suml\n",
    "rouge = Rouge()\n",
    "#scores = rougeEvaluationScore(str(hypothesis), str(reference))\n",
    "scores = rouge.get_scores(str(hypothesis), str(reference))\n",
    "print(scores)\n",
    "scores1=scores[0]\n",
    "keypoint = scores1.keys()\n",
    "data1=list(scores1.values())\n",
    "\n",
    "df = pd.DataFrame(index = keypoint,columns=['f', 'p', 'r'], data=data1)\n",
    "df.rename(columns = {'f':'F-Measure', 'p':'Precision','r':'Recall'}, inplace = True)\n",
    "print(df)\n",
    "\n",
    "plt.rcParams['figure.figsize'] = [10,6]\n",
    "\n",
    "df.plot.bar()\n",
    "plt.title(\" Document Summarizer : Rouge-Metric\")"
   ]
  },
  {
   "cell_type": "code",
   "execution_count": null,
   "metadata": {},
   "outputs": [],
   "source": []
  }
 ],
 "metadata": {
  "kernelspec": {
   "display_name": "Python 3",
   "language": "python",
   "name": "python3"
  },
  "language_info": {
   "codemirror_mode": {
    "name": "ipython",
    "version": 3
   },
   "file_extension": ".py",
   "mimetype": "text/x-python",
   "name": "python",
   "nbconvert_exporter": "python",
   "pygments_lexer": "ipython3",
   "version": "3.7.9"
  }
 },
 "nbformat": 4,
 "nbformat_minor": 4
}
